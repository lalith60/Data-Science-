{
 "cells": [
  {
   "cell_type": "markdown",
   "id": "821c460c",
   "metadata": {},
   "source": [
    "# Data Science Tools and Ecosystem"
   ]
  },
  {
   "cell_type": "markdown",
   "id": "b2ad0bb7",
   "metadata": {},
   "source": [
    "## Author\n",
    "Lalith Gopal Kureti"
   ]
  },
  {
   "cell_type": "markdown",
   "id": "8d020952",
   "metadata": {},
   "source": [
    "In this notebook, Data Science Tools and Ecosystem are summarized."
   ]
  },
  {
   "cell_type": "markdown",
   "id": "eb0d5064",
   "metadata": {},
   "source": [
    "**Objectives:**\n",
    "+ Create a markdown cell to list data science languages\n",
    "+ Create a markdown cell to list data science libraries\n",
    "+ Create a markdown cell with a table of Data Science tools\n",
    "+ Create a markdown cell introducing arithmetic expression examples\n",
    "+ Create a code cell to multiply and add numbers\n",
    "+ Create a code cell to convert minutes to hours\n",
    "+ Insert a markdown cell to list Objectives\n",
    "+ Create a markdown cell to indicate the Author's name\n",
    "+ Share your notebook through GitHub\n",
    "+ Take a screenshot of the first page of the notebook and save it\n",
    "\n"
   ]
  },
  {
   "cell_type": "markdown",
   "id": "a38a8ba9",
   "metadata": {},
   "source": [
    "Some of the popular languages that Data Scientists use are:\n",
    "1. Python\n",
    "2. R\n",
    "3. Julia\n",
    "4. Scala\n",
    "5. Java"
   ]
  },
  {
   "cell_type": "markdown",
   "id": "697edbc9",
   "metadata": {},
   "source": [
    "Some of the commonly used libraries used by Data Scientists include:\n",
    "1. pandas\n",
    "2. numpy\n",
    "3. scikit learn\n",
    "4. tensor flow\n",
    "5. matplotlib\n"
   ]
  },
  {
   "cell_type": "markdown",
   "id": "c71a6d59",
   "metadata": {},
   "source": [
    "| Data Science Tools |\n",
    "|:--------------------:|\n",
    "|MS Visual Studio    |\n",
    "|Jupyter Lab         |\n",
    "|Spyder              |"
   ]
  },
  {
   "cell_type": "markdown",
   "id": "461d23ff",
   "metadata": {},
   "source": [
    "### Below are a few examples of evaluating arithmetic expressions in Python."
   ]
  },
  {
   "cell_type": "code",
   "execution_count": 6,
   "id": "f1b33d63",
   "metadata": {},
   "outputs": [
    {
     "data": {
      "text/plain": [
       "17"
      ]
     },
     "execution_count": 6,
     "metadata": {},
     "output_type": "execute_result"
    }
   ],
   "source": [
    "# This a simple arithmetic expression to. multiply then add integers.\n",
    "(3*4)+5\n"
   ]
  },
  {
   "cell_type": "code",
   "execution_count": 7,
   "id": "694ed8d2",
   "metadata": {},
   "outputs": [
    {
     "data": {
      "text/plain": [
       "3.3333333333333335"
      ]
     },
     "execution_count": 7,
     "metadata": {},
     "output_type": "execute_result"
    }
   ],
   "source": [
    "# This will convert 200 minutes to hours by diving by 60\n",
    "200/60"
   ]
  },
  {
   "cell_type": "markdown",
   "id": "fbe1f6aa",
   "metadata": {},
   "source": []
  }
 ],
 "metadata": {
  "kernelspec": {
   "display_name": "Python 3 (ipykernel)",
   "language": "python",
   "name": "python3"
  },
  "language_info": {
   "codemirror_mode": {
    "name": "ipython",
    "version": 3
   },
   "file_extension": ".py",
   "mimetype": "text/x-python",
   "name": "python",
   "nbconvert_exporter": "python",
   "pygments_lexer": "ipython3",
   "version": "3.11.5"
  }
 },
 "nbformat": 4,
 "nbformat_minor": 5
}
